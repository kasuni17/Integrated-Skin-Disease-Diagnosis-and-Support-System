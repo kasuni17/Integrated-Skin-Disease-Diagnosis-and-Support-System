{
 "cells": [
  {
   "cell_type": "code",
   "execution_count": 2,
   "id": "795114f4",
   "metadata": {},
   "outputs": [],
   "source": [
    "import tensorflow as tf\n",
    "import matplotlib.pyplot as plt\n",
    "import pandas as pd\n",
    "import seaborn as sns\n",
    "import pickle\n",
    "from tensorflow.keras.utils import image_dataset_from_directory"
   ]
  },
  {
   "cell_type": "code",
   "execution_count": 2,
   "id": "6e2b4abc",
   "metadata": {},
   "outputs": [
    {
     "name": "stdout",
     "output_type": "stream",
     "text": [
      "Found 29647 files belonging to 6 classes.\n"
     ]
    }
   ],
   "source": [
    "training_set = image_dataset_from_directory(\n",
    "    './dataset/train',\n",
    "    labels=\"inferred\",\n",
    "    label_mode=\"categorical\",\n",
    "    class_names=None,\n",
    "    color_mode=\"rgb\",\n",
    "    batch_size=32,\n",
    "    image_size=(224, 224),\n",
    "    shuffle=True,\n",
    "    seed=None,\n",
    "    validation_split=None,\n",
    "    subset=None,\n",
    "    interpolation=\"bilinear\",\n",
    "    follow_links=False,\n",
    "    crop_to_aspect_ratio=False\n",
    ")"
   ]
  },
  {
   "cell_type": "code",
   "execution_count": 3,
   "id": "3ba7f9dd",
   "metadata": {},
   "outputs": [
    {
     "name": "stdout",
     "output_type": "stream",
     "text": [
      "Found 3776 files belonging to 6 classes.\n"
     ]
    }
   ],
   "source": [
    "validation_set = image_dataset_from_directory(\n",
    "    './dataset/val',\n",
    "    labels=\"inferred\",\n",
    "    label_mode=\"categorical\",\n",
    "    class_names=None,\n",
    "    color_mode=\"rgb\",\n",
    "    batch_size=32,\n",
    "    image_size=(224, 224),\n",
    "    shuffle=True,\n",
    "    seed=None,\n",
    "    validation_split=None,\n",
    "    subset=None,\n",
    "    interpolation=\"bilinear\",\n",
    "    follow_links=False,\n",
    "    crop_to_aspect_ratio=False\n",
    ")"
   ]
  },
  {
   "cell_type": "code",
   "execution_count": 4,
   "id": "f88c7ce5",
   "metadata": {},
   "outputs": [
    {
     "data": {
      "text/plain": [
       "<_PrefetchDataset element_spec=(TensorSpec(shape=(None, 224, 224, 3), dtype=tf.float32, name=None), TensorSpec(shape=(None, 6), dtype=tf.float32, name=None))>"
      ]
     },
     "execution_count": 4,
     "metadata": {},
     "output_type": "execute_result"
    }
   ],
   "source": [
    "training_set"
   ]
  },
  {
   "cell_type": "code",
   "execution_count": 5,
   "id": "0e154413",
   "metadata": {},
   "outputs": [],
   "source": [
    "INPUT_SHAPE = (224, 224, 3)"
   ]
  },
  {
   "cell_type": "code",
   "execution_count": 6,
   "id": "ab91953a",
   "metadata": {},
   "outputs": [],
   "source": [
    "mobnet = tf.keras.applications.MobileNetV3Large(\n",
    "    input_shape=INPUT_SHAPE,\n",
    "    alpha=1.0,\n",
    "    minimalistic=False,\n",
    "    include_top=True,\n",
    "    weights=\"imagenet\",\n",
    "    input_tensor=None,\n",
    "    classes=1000,\n",
    "    pooling=None,\n",
    "    dropout_rate=0.2,\n",
    "    classifier_activation=\"softmax\",\n",
    "    include_preprocessing=True,\n",
    "    # name=\"MobileNetV3Large\",\n",
    ")"
   ]
  },
  {
   "cell_type": "code",
   "execution_count": 7,
   "id": "93d9c43d",
   "metadata": {},
   "outputs": [],
   "source": [
    "model = tf.keras.models.Sequential()"
   ]
  },
  {
   "cell_type": "code",
   "execution_count": 8,
   "id": "250ecc99",
   "metadata": {},
   "outputs": [],
   "source": [
    "model.add(tf.keras.Input(shape=INPUT_SHAPE))"
   ]
  },
  {
   "cell_type": "code",
   "execution_count": 9,
   "id": "12690196",
   "metadata": {},
   "outputs": [],
   "source": [
    "model.add(mobnet)"
   ]
  },
  {
   "cell_type": "code",
   "execution_count": 10,
   "id": "f38b67b0",
   "metadata": {},
   "outputs": [],
   "source": [
    "model.add(tf.keras.layers.Dense(units = 6,activation='softmax'))"
   ]
  },
  {
   "cell_type": "code",
   "execution_count": 11,
   "id": "888574c7",
   "metadata": {},
   "outputs": [],
   "source": [
    "metrics_list = ['accuracy',\n",
    "                tf.keras.metrics.F1Score()]"
   ]
  },
  {
   "cell_type": "code",
   "execution_count": 12,
   "id": "3f46b391",
   "metadata": {},
   "outputs": [],
   "source": [
    "model.compile(optimizer=tf.keras.optimizers.Adam(\n",
    "    learning_rate=0.0001),loss='categorical_crossentropy',metrics=metrics_list)"
   ]
  },
  {
   "cell_type": "code",
   "execution_count": 13,
   "id": "cb887a10",
   "metadata": {},
   "outputs": [
    {
     "data": {
      "text/html": [
       "<pre style=\"white-space:pre;overflow-x:auto;line-height:normal;font-family:Menlo,'DejaVu Sans Mono',consolas,'Courier New',monospace\"><span style=\"font-weight: bold\">Model: \"sequential\"</span>\n",
       "</pre>\n"
      ],
      "text/plain": [
       "\u001b[1mModel: \"sequential\"\u001b[0m\n"
      ]
     },
     "metadata": {},
     "output_type": "display_data"
    },
    {
     "data": {
      "text/html": [
       "<pre style=\"white-space:pre;overflow-x:auto;line-height:normal;font-family:Menlo,'DejaVu Sans Mono',consolas,'Courier New',monospace\">┏━━━━━━━━━━━━━━━━━━━━━━━━━━━━━━━━━┳━━━━━━━━━━━━━━━━━━━━━━━━┳━━━━━━━━━━━━━━━┓\n",
       "┃<span style=\"font-weight: bold\"> Layer (type)                    </span>┃<span style=\"font-weight: bold\"> Output Shape           </span>┃<span style=\"font-weight: bold\">       Param # </span>┃\n",
       "┡━━━━━━━━━━━━━━━━━━━━━━━━━━━━━━━━━╇━━━━━━━━━━━━━━━━━━━━━━━━╇━━━━━━━━━━━━━━━┩\n",
       "│ MobileNetV3Large (<span style=\"color: #0087ff; text-decoration-color: #0087ff\">Functional</span>)   │ (<span style=\"color: #00d7ff; text-decoration-color: #00d7ff\">None</span>, <span style=\"color: #00af00; text-decoration-color: #00af00\">1000</span>)           │     <span style=\"color: #00af00; text-decoration-color: #00af00\">5,507,432</span> │\n",
       "├─────────────────────────────────┼────────────────────────┼───────────────┤\n",
       "│ dense (<span style=\"color: #0087ff; text-decoration-color: #0087ff\">Dense</span>)                   │ (<span style=\"color: #00d7ff; text-decoration-color: #00d7ff\">None</span>, <span style=\"color: #00af00; text-decoration-color: #00af00\">6</span>)              │         <span style=\"color: #00af00; text-decoration-color: #00af00\">6,006</span> │\n",
       "└─────────────────────────────────┴────────────────────────┴───────────────┘\n",
       "</pre>\n"
      ],
      "text/plain": [
       "┏━━━━━━━━━━━━━━━━━━━━━━━━━━━━━━━━━┳━━━━━━━━━━━━━━━━━━━━━━━━┳━━━━━━━━━━━━━━━┓\n",
       "┃\u001b[1m \u001b[0m\u001b[1mLayer (type)                   \u001b[0m\u001b[1m \u001b[0m┃\u001b[1m \u001b[0m\u001b[1mOutput Shape          \u001b[0m\u001b[1m \u001b[0m┃\u001b[1m \u001b[0m\u001b[1m      Param #\u001b[0m\u001b[1m \u001b[0m┃\n",
       "┡━━━━━━━━━━━━━━━━━━━━━━━━━━━━━━━━━╇━━━━━━━━━━━━━━━━━━━━━━━━╇━━━━━━━━━━━━━━━┩\n",
       "│ MobileNetV3Large (\u001b[38;5;33mFunctional\u001b[0m)   │ (\u001b[38;5;45mNone\u001b[0m, \u001b[38;5;34m1000\u001b[0m)           │     \u001b[38;5;34m5,507,432\u001b[0m │\n",
       "├─────────────────────────────────┼────────────────────────┼───────────────┤\n",
       "│ dense (\u001b[38;5;33mDense\u001b[0m)                   │ (\u001b[38;5;45mNone\u001b[0m, \u001b[38;5;34m6\u001b[0m)              │         \u001b[38;5;34m6,006\u001b[0m │\n",
       "└─────────────────────────────────┴────────────────────────┴───────────────┘\n"
      ]
     },
     "metadata": {},
     "output_type": "display_data"
    },
    {
     "data": {
      "text/html": [
       "<pre style=\"white-space:pre;overflow-x:auto;line-height:normal;font-family:Menlo,'DejaVu Sans Mono',consolas,'Courier New',monospace\"><span style=\"font-weight: bold\"> Total params: </span><span style=\"color: #00af00; text-decoration-color: #00af00\">5,513,438</span> (21.03 MB)\n",
       "</pre>\n"
      ],
      "text/plain": [
       "\u001b[1m Total params: \u001b[0m\u001b[38;5;34m5,513,438\u001b[0m (21.03 MB)\n"
      ]
     },
     "metadata": {},
     "output_type": "display_data"
    },
    {
     "data": {
      "text/html": [
       "<pre style=\"white-space:pre;overflow-x:auto;line-height:normal;font-family:Menlo,'DejaVu Sans Mono',consolas,'Courier New',monospace\"><span style=\"font-weight: bold\"> Trainable params: </span><span style=\"color: #00af00; text-decoration-color: #00af00\">5,489,038</span> (20.94 MB)\n",
       "</pre>\n"
      ],
      "text/plain": [
       "\u001b[1m Trainable params: \u001b[0m\u001b[38;5;34m5,489,038\u001b[0m (20.94 MB)\n"
      ]
     },
     "metadata": {},
     "output_type": "display_data"
    },
    {
     "data": {
      "text/html": [
       "<pre style=\"white-space:pre;overflow-x:auto;line-height:normal;font-family:Menlo,'DejaVu Sans Mono',consolas,'Courier New',monospace\"><span style=\"font-weight: bold\"> Non-trainable params: </span><span style=\"color: #00af00; text-decoration-color: #00af00\">24,400</span> (95.31 KB)\n",
       "</pre>\n"
      ],
      "text/plain": [
       "\u001b[1m Non-trainable params: \u001b[0m\u001b[38;5;34m24,400\u001b[0m (95.31 KB)\n"
      ]
     },
     "metadata": {},
     "output_type": "display_data"
    }
   ],
   "source": [
    "model.summary()"
   ]
  },
  {
   "cell_type": "code",
   "execution_count": 14,
   "id": "60a6780a",
   "metadata": {},
   "outputs": [
    {
     "name": "stdout",
     "output_type": "stream",
     "text": [
      "Epoch 1/15\n"
     ]
    },
    {
     "name": "stdout",
     "output_type": "stream",
     "text": [
      "\u001b[1m927/927\u001b[0m \u001b[32m━━━━━━━━━━━━━━━━━━━━\u001b[0m\u001b[37m\u001b[0m \u001b[1m1951s\u001b[0m 2s/step - accuracy: 0.5108 - f1_score: 0.3711 - loss: 1.7250 - val_accuracy: 0.6144 - val_f1_score: 0.4521 - val_loss: 1.6247\n",
      "Epoch 2/15\n",
      "\u001b[1m927/927\u001b[0m \u001b[32m━━━━━━━━━━━━━━━━━━━━\u001b[0m\u001b[37m\u001b[0m \u001b[1m1756s\u001b[0m 2s/step - accuracy: 0.6376 - f1_score: 0.4708 - loss: 1.5873 - val_accuracy: 0.6576 - val_f1_score: 0.4675 - val_loss: 1.5085\n",
      "Epoch 3/15\n",
      "\u001b[1m927/927\u001b[0m \u001b[32m━━━━━━━━━━━━━━━━━━━━\u001b[0m\u001b[37m\u001b[0m \u001b[1m1687s\u001b[0m 2s/step - accuracy: 0.6733 - f1_score: 0.4888 - loss: 1.4731 - val_accuracy: 0.6883 - val_f1_score: 0.5003 - val_loss: 1.4000\n",
      "Epoch 4/15\n",
      "\u001b[1m927/927\u001b[0m \u001b[32m━━━━━━━━━━━━━━━━━━━━\u001b[0m\u001b[37m\u001b[0m \u001b[1m1651s\u001b[0m 2s/step - accuracy: 0.6940 - f1_score: 0.5067 - loss: 1.3696 - val_accuracy: 0.6875 - val_f1_score: 0.5027 - val_loss: 1.3131\n",
      "Epoch 5/15\n",
      "\u001b[1m927/927\u001b[0m \u001b[32m━━━━━━━━━━━━━━━━━━━━\u001b[0m\u001b[37m\u001b[0m \u001b[1m1628s\u001b[0m 2s/step - accuracy: 0.6974 - f1_score: 0.5060 - loss: 1.2801 - val_accuracy: 0.6907 - val_f1_score: 0.5027 - val_loss: 1.2391\n",
      "Epoch 6/15\n",
      "\u001b[1m927/927\u001b[0m \u001b[32m━━━━━━━━━━━━━━━━━━━━\u001b[0m\u001b[37m\u001b[0m \u001b[1m1630s\u001b[0m 2s/step - accuracy: 0.7180 - f1_score: 0.5245 - loss: 1.1886 - val_accuracy: 0.7058 - val_f1_score: 0.5145 - val_loss: 1.1615\n",
      "Epoch 7/15\n",
      "\u001b[1m927/927\u001b[0m \u001b[32m━━━━━━━━━━━━━━━━━━━━\u001b[0m\u001b[37m\u001b[0m \u001b[1m1637s\u001b[0m 2s/step - accuracy: 0.7272 - f1_score: 0.5333 - loss: 1.1093 - val_accuracy: 0.7097 - val_f1_score: 0.5180 - val_loss: 1.0952\n",
      "Epoch 8/15\n",
      "\u001b[1m927/927\u001b[0m \u001b[32m━━━━━━━━━━━━━━━━━━━━\u001b[0m\u001b[37m\u001b[0m \u001b[1m1631s\u001b[0m 2s/step - accuracy: 0.7338 - f1_score: 0.5374 - loss: 1.0404 - val_accuracy: 0.7105 - val_f1_score: 0.5194 - val_loss: 1.0402\n",
      "Epoch 9/15\n",
      "\u001b[1m927/927\u001b[0m \u001b[32m━━━━━━━━━━━━━━━━━━━━\u001b[0m\u001b[37m\u001b[0m \u001b[1m1642s\u001b[0m 2s/step - accuracy: 0.7403 - f1_score: 0.5408 - loss: 0.9750 - val_accuracy: 0.7116 - val_f1_score: 0.5202 - val_loss: 0.9815\n",
      "Epoch 10/15\n",
      "\u001b[1m927/927\u001b[0m \u001b[32m━━━━━━━━━━━━━━━━━━━━\u001b[0m\u001b[37m\u001b[0m \u001b[1m1639s\u001b[0m 2s/step - accuracy: 0.7482 - f1_score: 0.5477 - loss: 0.9146 - val_accuracy: 0.7267 - val_f1_score: 0.5300 - val_loss: 0.9260\n",
      "Epoch 11/15\n",
      "\u001b[1m927/927\u001b[0m \u001b[32m━━━━━━━━━━━━━━━━━━━━\u001b[0m\u001b[37m\u001b[0m \u001b[1m1686s\u001b[0m 2s/step - accuracy: 0.7563 - f1_score: 0.5553 - loss: 0.8560 - val_accuracy: 0.7328 - val_f1_score: 0.5396 - val_loss: 0.8734\n",
      "Epoch 12/15\n",
      "\u001b[1m927/927\u001b[0m \u001b[32m━━━━━━━━━━━━━━━━━━━━\u001b[0m\u001b[37m\u001b[0m \u001b[1m1631s\u001b[0m 2s/step - accuracy: 0.7647 - f1_score: 0.5813 - loss: 0.8034 - val_accuracy: 0.7611 - val_f1_score: 0.6624 - val_loss: 0.8339\n",
      "Epoch 13/15\n",
      "\u001b[1m927/927\u001b[0m \u001b[32m━━━━━━━━━━━━━━━━━━━━\u001b[0m\u001b[37m\u001b[0m \u001b[1m1603s\u001b[0m 2s/step - accuracy: 0.7900 - f1_score: 0.6918 - loss: 0.7548 - val_accuracy: 0.7646 - val_f1_score: 0.6680 - val_loss: 0.7946\n",
      "Epoch 14/15\n",
      "\u001b[1m927/927\u001b[0m \u001b[32m━━━━━━━━━━━━━━━━━━━━\u001b[0m\u001b[37m\u001b[0m \u001b[1m1730s\u001b[0m 2s/step - accuracy: 0.7996 - f1_score: 0.7021 - loss: 0.7072 - val_accuracy: 0.7738 - val_f1_score: 0.6722 - val_loss: 0.7490\n",
      "Epoch 15/15\n",
      "\u001b[1m927/927\u001b[0m \u001b[32m━━━━━━━━━━━━━━━━━━━━\u001b[0m\u001b[37m\u001b[0m \u001b[1m1560s\u001b[0m 2s/step - accuracy: 0.8047 - f1_score: 0.7116 - loss: 0.6661 - val_accuracy: 0.7701 - val_f1_score: 0.6663 - val_loss: 0.7338\n"
     ]
    }
   ],
   "source": [
    "training_history = model.fit(x=training_set,validation_data=validation_set,epochs=15)"
   ]
  },
  {
   "cell_type": "code",
   "execution_count": 16,
   "id": "f5ee9cad",
   "metadata": {},
   "outputs": [
    {
     "name": "stderr",
     "output_type": "stream",
     "text": [
      "WARNING:absl:You are saving your model as an HDF5 file via `model.save()` or `keras.saving.save_model(model)`. This file format is considered legacy. We recommend using instead the native Keras format, e.g. `model.save('my_model.keras')` or `keras.saving.save_model(model, 'my_model.keras')`. \n"
     ]
    }
   ],
   "source": [
    "model.save(\"./Trained_Skin_Disease_model.h5\")\n",
    "model.save(\"./Trained_Skin_Disease_model.keras\")"
   ]
  },
  {
   "cell_type": "code",
   "execution_count": 17,
   "id": "f6325379",
   "metadata": {},
   "outputs": [],
   "source": [
    "model.save(\"./Trained_Skin_Disease_model.keras\")"
   ]
  },
  {
   "cell_type": "code",
   "execution_count": 18,
   "id": "68ab52a0",
   "metadata": {},
   "outputs": [
    {
     "data": {
      "text/plain": [
       "<keras.src.callbacks.history.History at 0x23c554a3370>"
      ]
     },
     "execution_count": 18,
     "metadata": {},
     "output_type": "execute_result"
    }
   ],
   "source": [
    "training_history"
   ]
  },
  {
   "cell_type": "code",
   "execution_count": 19,
   "id": "f6a23ea6",
   "metadata": {},
   "outputs": [
    {
     "data": {
      "text/plain": [
       "{'accuracy': [0.5614396333694458,\n",
       "  0.6472155451774597,\n",
       "  0.6793941855430603,\n",
       "  0.6958208084106445,\n",
       "  0.703916072845459,\n",
       "  0.7198030352592468,\n",
       "  0.7304617762565613,\n",
       "  0.7389617562294006,\n",
       "  0.7436502575874329,\n",
       "  0.7533308863639832,\n",
       "  0.7595372200012207,\n",
       "  0.7727257609367371,\n",
       "  0.7937396764755249,\n",
       "  0.8014639019966125,\n",
       "  0.8059163093566895],\n",
       " 'f1_score': [<tf.Tensor: shape=(6,), dtype=float32, numpy=\n",
       "  array([0.51749396, 0.12244007, 0.619863  , 0.00948766, 0.6526751 ,\n",
       "         0.6389818 ], dtype=float32)>,\n",
       "  <tf.Tensor: shape=(6,), dtype=float32, numpy=\n",
       "  array([0.55256003, 0.        , 0.759166  , 0.        , 0.77924937,\n",
       "         0.7531712 ], dtype=float32)>,\n",
       "  <tf.Tensor: shape=(6,), dtype=float32, numpy=\n",
       "  array([0.57191515, 0.        , 0.77428114, 0.        , 0.8191407 ,\n",
       "         0.7962794 ], dtype=float32)>,\n",
       "  <tf.Tensor: shape=(6,), dtype=float32, numpy=\n",
       "  array([0.5822767 , 0.        , 0.80764794, 0.        , 0.840148  ,\n",
       "         0.81319857], dtype=float32)>,\n",
       "  <tf.Tensor: shape=(6,), dtype=float32, numpy=\n",
       "  array([0.5894679 , 0.        , 0.80717486, 0.        , 0.84927624,\n",
       "         0.8245945 ], dtype=float32)>,\n",
       "  <tf.Tensor: shape=(6,), dtype=float32, numpy=\n",
       "  array([0.6049527 , 0.        , 0.8458681 , 0.        , 0.8611928 ,\n",
       "         0.84329736], dtype=float32)>,\n",
       "  <tf.Tensor: shape=(6,), dtype=float32, numpy=\n",
       "  array([0.6162846 , 0.        , 0.86338544, 0.        , 0.8726702 ,\n",
       "         0.8544002 ], dtype=float32)>,\n",
       "  <tf.Tensor: shape=(6,), dtype=float32, numpy=\n",
       "  array([0.6271269 , 0.        , 0.87856966, 0.        , 0.8774625 ,\n",
       "         0.8653259 ], dtype=float32)>,\n",
       "  <tf.Tensor: shape=(6,), dtype=float32, numpy=\n",
       "  array([0.6312464 , 0.        , 0.87235993, 0.        , 0.882862  ,\n",
       "         0.87192416], dtype=float32)>,\n",
       "  <tf.Tensor: shape=(6,), dtype=float32, numpy=\n",
       "  array([0.6392431 , 0.        , 0.8902214 , 0.        , 0.89266187,\n",
       "         0.88470334], dtype=float32)>,\n",
       "  <tf.Tensor: shape=(6,), dtype=float32, numpy=\n",
       "  array([0.6493853 , 0.        , 0.91195107, 0.        , 0.8947856 ,\n",
       "         0.89033335], dtype=float32)>,\n",
       "  <tf.Tensor: shape=(6,), dtype=float32, numpy=\n",
       "  array([0.65028244, 0.        , 0.91096526, 0.41842896, 0.9116528 ,\n",
       "         0.8982017 ], dtype=float32)>,\n",
       "  <tf.Tensor: shape=(6,), dtype=float32, numpy=\n",
       "  array([0.6610843 , 0.        , 0.92015916, 0.753938  , 0.9369171 ,\n",
       "         0.90745944], dtype=float32)>,\n",
       "  <tf.Tensor: shape=(6,), dtype=float32, numpy=\n",
       "  array([0.6670925 , 0.        , 0.93053913, 0.76712316, 0.94679916,\n",
       "         0.9149146 ], dtype=float32)>,\n",
       "  <tf.Tensor: shape=(6,), dtype=float32, numpy=\n",
       "  array([0.66728354, 0.        , 0.93638074, 0.7956878 , 0.9501609 ,\n",
       "         0.92304206], dtype=float32)>],\n",
       " 'loss': [1.6850234270095825,\n",
       "  1.5572128295898438,\n",
       "  1.445292592048645,\n",
       "  1.345245122909546,\n",
       "  1.2553777694702148,\n",
       "  1.1692026853561401,\n",
       "  1.0903568267822266,\n",
       "  1.0188031196594238,\n",
       "  0.9577512741088867,\n",
       "  0.8949147462844849,\n",
       "  0.8402121067047119,\n",
       "  0.790508508682251,\n",
       "  0.7404398322105408,\n",
       "  0.6942551732063293,\n",
       "  0.6560084223747253],\n",
       " 'val_accuracy': [0.6144067645072937,\n",
       "  0.6575741767883301,\n",
       "  0.6882944703102112,\n",
       "  0.6875,\n",
       "  0.6906779408454895,\n",
       "  0.7057732939720154,\n",
       "  0.7097457647323608,\n",
       "  0.710540235042572,\n",
       "  0.711599588394165,\n",
       "  0.7266949415206909,\n",
       "  0.7327859997749329,\n",
       "  0.7611228823661804,\n",
       "  0.7645657062530518,\n",
       "  0.773834764957428,\n",
       "  0.7701271176338196],\n",
       " 'val_f1_score': [<tf.Tensor: shape=(6,), dtype=float32, numpy=\n",
       "  array([0.5217391 , 0.        , 0.7657512 , 0.        , 0.73547393,\n",
       "         0.6896912 ], dtype=float32)>,\n",
       "  <tf.Tensor: shape=(6,), dtype=float32, numpy=\n",
       "  array([0.5298732, 0.       , 0.6976744, 0.       , 0.7976836, 0.7800348],\n",
       "        dtype=float32)>,\n",
       "  <tf.Tensor: shape=(6,), dtype=float32, numpy=\n",
       "  array([0.5687465, 0.       , 0.7994055, 0.       , 0.8239436, 0.8097928],\n",
       "        dtype=float32)>,\n",
       "  <tf.Tensor: shape=(6,), dtype=float32, numpy=\n",
       "  array([0.5786163, 0.       , 0.8106415, 0.       , 0.8281773, 0.7990515],\n",
       "        dtype=float32)>,\n",
       "  <tf.Tensor: shape=(6,), dtype=float32, numpy=\n",
       "  array([0.59356874, 0.        , 0.81155   , 0.        , 0.8361858 ,\n",
       "         0.7751834 ], dtype=float32)>,\n",
       "  <tf.Tensor: shape=(6,), dtype=float32, numpy=\n",
       "  array([0.59623885, 0.        , 0.8396946 , 0.        , 0.84303707,\n",
       "         0.8081739 ], dtype=float32)>,\n",
       "  <tf.Tensor: shape=(6,), dtype=float32, numpy=\n",
       "  array([0.6010695, 0.       , 0.8343948, 0.       , 0.8486524, 0.8236065],\n",
       "        dtype=float32)>,\n",
       "  <tf.Tensor: shape=(6,), dtype=float32, numpy=\n",
       "  array([0.60474926, 0.        , 0.8393442 , 0.        , 0.85039914,\n",
       "         0.8216852 ], dtype=float32)>,\n",
       "  <tf.Tensor: shape=(6,), dtype=float32, numpy=\n",
       "  array([0.6140844 , 0.        , 0.8439489 , 0.        , 0.8318085 ,\n",
       "         0.83133966], dtype=float32)>,\n",
       "  <tf.Tensor: shape=(6,), dtype=float32, numpy=\n",
       "  array([0.61618495, 0.        , 0.8594248 , 0.        , 0.8502349 ,\n",
       "         0.85407454], dtype=float32)>,\n",
       "  <tf.Tensor: shape=(6,), dtype=float32, numpy=\n",
       "  array([0.63186216, 0.        , 0.89240503, 0.        , 0.85961735,\n",
       "         0.85386467], dtype=float32)>,\n",
       "  <tf.Tensor: shape=(6,), dtype=float32, numpy=\n",
       "  array([0.6344314 , 0.        , 0.88118804, 0.6902655 , 0.90875906,\n",
       "         0.8598247 ], dtype=float32)>,\n",
       "  <tf.Tensor: shape=(6,), dtype=float32, numpy=\n",
       "  array([0.64157116, 0.        , 0.8903225 , 0.71074367, 0.90789473,\n",
       "         0.8574953 ], dtype=float32)>,\n",
       "  <tf.Tensor: shape=(6,), dtype=float32, numpy=\n",
       "  array([0.6432553, 0.       , 0.8934817, 0.70229  , 0.9213318, 0.8727049],\n",
       "        dtype=float32)>,\n",
       "  <tf.Tensor: shape=(6,), dtype=float32, numpy=\n",
       "  array([0.6423357 , 0.        , 0.8926904 , 0.67953664, 0.91728204,\n",
       "         0.86574346], dtype=float32)>],\n",
       " 'val_loss': [1.6246531009674072,\n",
       "  1.5084782838821411,\n",
       "  1.4000012874603271,\n",
       "  1.3131028413772583,\n",
       "  1.2390553951263428,\n",
       "  1.1614729166030884,\n",
       "  1.0951787233352661,\n",
       "  1.0401545763015747,\n",
       "  0.9815185070037842,\n",
       "  0.9260189533233643,\n",
       "  0.8733741044998169,\n",
       "  0.8338894248008728,\n",
       "  0.7946047186851501,\n",
       "  0.7490226030349731,\n",
       "  0.7338071465492249]}"
      ]
     },
     "execution_count": 19,
     "metadata": {},
     "output_type": "execute_result"
    }
   ],
   "source": [
    "training_history.history"
   ]
  },
  {
   "cell_type": "code",
   "execution_count": 21,
   "id": "c9204ef4",
   "metadata": {},
   "outputs": [],
   "source": [
    "#save history\n",
    "import pickle\n",
    "with open(\"Training_history.pkl\",\"wb\") as f:\n",
    "    pickle.dump(training_history.history,f)"
   ]
  },
  {
   "cell_type": "code",
   "execution_count": 3,
   "id": "8752ff5f",
   "metadata": {},
   "outputs": [
    {
     "data": {
      "text/plain": [
       "{'accuracy': [0.5614396333694458,\n",
       "  0.6472155451774597,\n",
       "  0.6793941855430603,\n",
       "  0.6958208084106445,\n",
       "  0.703916072845459,\n",
       "  0.7198030352592468,\n",
       "  0.7304617762565613,\n",
       "  0.7389617562294006,\n",
       "  0.7436502575874329,\n",
       "  0.7533308863639832,\n",
       "  0.7595372200012207,\n",
       "  0.7727257609367371,\n",
       "  0.7937396764755249,\n",
       "  0.8014639019966125,\n",
       "  0.8059163093566895],\n",
       " 'f1_score': [<tf.Tensor: shape=(6,), dtype=float32, numpy=\n",
       "  array([0.51749396, 0.12244007, 0.619863  , 0.00948766, 0.6526751 ,\n",
       "         0.6389818 ], dtype=float32)>,\n",
       "  <tf.Tensor: shape=(6,), dtype=float32, numpy=\n",
       "  array([0.55256003, 0.        , 0.759166  , 0.        , 0.77924937,\n",
       "         0.7531712 ], dtype=float32)>,\n",
       "  <tf.Tensor: shape=(6,), dtype=float32, numpy=\n",
       "  array([0.57191515, 0.        , 0.77428114, 0.        , 0.8191407 ,\n",
       "         0.7962794 ], dtype=float32)>,\n",
       "  <tf.Tensor: shape=(6,), dtype=float32, numpy=\n",
       "  array([0.5822767 , 0.        , 0.80764794, 0.        , 0.840148  ,\n",
       "         0.81319857], dtype=float32)>,\n",
       "  <tf.Tensor: shape=(6,), dtype=float32, numpy=\n",
       "  array([0.5894679 , 0.        , 0.80717486, 0.        , 0.84927624,\n",
       "         0.8245945 ], dtype=float32)>,\n",
       "  <tf.Tensor: shape=(6,), dtype=float32, numpy=\n",
       "  array([0.6049527 , 0.        , 0.8458681 , 0.        , 0.8611928 ,\n",
       "         0.84329736], dtype=float32)>,\n",
       "  <tf.Tensor: shape=(6,), dtype=float32, numpy=\n",
       "  array([0.6162846 , 0.        , 0.86338544, 0.        , 0.8726702 ,\n",
       "         0.8544002 ], dtype=float32)>,\n",
       "  <tf.Tensor: shape=(6,), dtype=float32, numpy=\n",
       "  array([0.6271269 , 0.        , 0.87856966, 0.        , 0.8774625 ,\n",
       "         0.8653259 ], dtype=float32)>,\n",
       "  <tf.Tensor: shape=(6,), dtype=float32, numpy=\n",
       "  array([0.6312464 , 0.        , 0.87235993, 0.        , 0.882862  ,\n",
       "         0.87192416], dtype=float32)>,\n",
       "  <tf.Tensor: shape=(6,), dtype=float32, numpy=\n",
       "  array([0.6392431 , 0.        , 0.8902214 , 0.        , 0.89266187,\n",
       "         0.88470334], dtype=float32)>,\n",
       "  <tf.Tensor: shape=(6,), dtype=float32, numpy=\n",
       "  array([0.6493853 , 0.        , 0.91195107, 0.        , 0.8947856 ,\n",
       "         0.89033335], dtype=float32)>,\n",
       "  <tf.Tensor: shape=(6,), dtype=float32, numpy=\n",
       "  array([0.65028244, 0.        , 0.91096526, 0.41842896, 0.9116528 ,\n",
       "         0.8982017 ], dtype=float32)>,\n",
       "  <tf.Tensor: shape=(6,), dtype=float32, numpy=\n",
       "  array([0.6610843 , 0.        , 0.92015916, 0.753938  , 0.9369171 ,\n",
       "         0.90745944], dtype=float32)>,\n",
       "  <tf.Tensor: shape=(6,), dtype=float32, numpy=\n",
       "  array([0.6670925 , 0.        , 0.93053913, 0.76712316, 0.94679916,\n",
       "         0.9149146 ], dtype=float32)>,\n",
       "  <tf.Tensor: shape=(6,), dtype=float32, numpy=\n",
       "  array([0.66728354, 0.        , 0.93638074, 0.7956878 , 0.9501609 ,\n",
       "         0.92304206], dtype=float32)>],\n",
       " 'loss': [1.6850234270095825,\n",
       "  1.5572128295898438,\n",
       "  1.445292592048645,\n",
       "  1.345245122909546,\n",
       "  1.2553777694702148,\n",
       "  1.1692026853561401,\n",
       "  1.0903568267822266,\n",
       "  1.0188031196594238,\n",
       "  0.9577512741088867,\n",
       "  0.8949147462844849,\n",
       "  0.8402121067047119,\n",
       "  0.790508508682251,\n",
       "  0.7404398322105408,\n",
       "  0.6942551732063293,\n",
       "  0.6560084223747253],\n",
       " 'val_accuracy': [0.6144067645072937,\n",
       "  0.6575741767883301,\n",
       "  0.6882944703102112,\n",
       "  0.6875,\n",
       "  0.6906779408454895,\n",
       "  0.7057732939720154,\n",
       "  0.7097457647323608,\n",
       "  0.710540235042572,\n",
       "  0.711599588394165,\n",
       "  0.7266949415206909,\n",
       "  0.7327859997749329,\n",
       "  0.7611228823661804,\n",
       "  0.7645657062530518,\n",
       "  0.773834764957428,\n",
       "  0.7701271176338196],\n",
       " 'val_f1_score': [<tf.Tensor: shape=(6,), dtype=float32, numpy=\n",
       "  array([0.5217391 , 0.        , 0.7657512 , 0.        , 0.73547393,\n",
       "         0.6896912 ], dtype=float32)>,\n",
       "  <tf.Tensor: shape=(6,), dtype=float32, numpy=\n",
       "  array([0.5298732, 0.       , 0.6976744, 0.       , 0.7976836, 0.7800348],\n",
       "        dtype=float32)>,\n",
       "  <tf.Tensor: shape=(6,), dtype=float32, numpy=\n",
       "  array([0.5687465, 0.       , 0.7994055, 0.       , 0.8239436, 0.8097928],\n",
       "        dtype=float32)>,\n",
       "  <tf.Tensor: shape=(6,), dtype=float32, numpy=\n",
       "  array([0.5786163, 0.       , 0.8106415, 0.       , 0.8281773, 0.7990515],\n",
       "        dtype=float32)>,\n",
       "  <tf.Tensor: shape=(6,), dtype=float32, numpy=\n",
       "  array([0.59356874, 0.        , 0.81155   , 0.        , 0.8361858 ,\n",
       "         0.7751834 ], dtype=float32)>,\n",
       "  <tf.Tensor: shape=(6,), dtype=float32, numpy=\n",
       "  array([0.59623885, 0.        , 0.8396946 , 0.        , 0.84303707,\n",
       "         0.8081739 ], dtype=float32)>,\n",
       "  <tf.Tensor: shape=(6,), dtype=float32, numpy=\n",
       "  array([0.6010695, 0.       , 0.8343948, 0.       , 0.8486524, 0.8236065],\n",
       "        dtype=float32)>,\n",
       "  <tf.Tensor: shape=(6,), dtype=float32, numpy=\n",
       "  array([0.60474926, 0.        , 0.8393442 , 0.        , 0.85039914,\n",
       "         0.8216852 ], dtype=float32)>,\n",
       "  <tf.Tensor: shape=(6,), dtype=float32, numpy=\n",
       "  array([0.6140844 , 0.        , 0.8439489 , 0.        , 0.8318085 ,\n",
       "         0.83133966], dtype=float32)>,\n",
       "  <tf.Tensor: shape=(6,), dtype=float32, numpy=\n",
       "  array([0.61618495, 0.        , 0.8594248 , 0.        , 0.8502349 ,\n",
       "         0.85407454], dtype=float32)>,\n",
       "  <tf.Tensor: shape=(6,), dtype=float32, numpy=\n",
       "  array([0.63186216, 0.        , 0.89240503, 0.        , 0.85961735,\n",
       "         0.85386467], dtype=float32)>,\n",
       "  <tf.Tensor: shape=(6,), dtype=float32, numpy=\n",
       "  array([0.6344314 , 0.        , 0.88118804, 0.6902655 , 0.90875906,\n",
       "         0.8598247 ], dtype=float32)>,\n",
       "  <tf.Tensor: shape=(6,), dtype=float32, numpy=\n",
       "  array([0.64157116, 0.        , 0.8903225 , 0.71074367, 0.90789473,\n",
       "         0.8574953 ], dtype=float32)>,\n",
       "  <tf.Tensor: shape=(6,), dtype=float32, numpy=\n",
       "  array([0.6432553, 0.       , 0.8934817, 0.70229  , 0.9213318, 0.8727049],\n",
       "        dtype=float32)>,\n",
       "  <tf.Tensor: shape=(6,), dtype=float32, numpy=\n",
       "  array([0.6423357 , 0.        , 0.8926904 , 0.67953664, 0.91728204,\n",
       "         0.86574346], dtype=float32)>],\n",
       " 'val_loss': [1.6246531009674072,\n",
       "  1.5084782838821411,\n",
       "  1.4000012874603271,\n",
       "  1.3131028413772583,\n",
       "  1.2390553951263428,\n",
       "  1.1614729166030884,\n",
       "  1.0951787233352661,\n",
       "  1.0401545763015747,\n",
       "  0.9815185070037842,\n",
       "  0.9260189533233643,\n",
       "  0.8733741044998169,\n",
       "  0.8338894248008728,\n",
       "  0.7946047186851501,\n",
       "  0.7490226030349731,\n",
       "  0.7338071465492249]}"
      ]
     },
     "execution_count": 3,
     "metadata": {},
     "output_type": "execute_result"
    }
   ],
   "source": [
    "#Reloading History from pickle\n",
    "import pickle\n",
    "with open('Training_history.pkl', 'rb') as f:\n",
    "    load_history = pickle.load(f)\n",
    "load_history"
   ]
  },
  {
   "cell_type": "code",
   "execution_count": 4,
   "id": "369aef75",
   "metadata": {},
   "outputs": [
    {
     "data": {
      "text/plain": [
       "dict_keys(['accuracy', 'f1_score', 'loss', 'val_accuracy', 'val_f1_score', 'val_loss'])"
      ]
     },
     "execution_count": 4,
     "metadata": {},
     "output_type": "execute_result"
    }
   ],
   "source": [
    "load_history.keys()"
   ]
  },
  {
   "cell_type": "code",
   "execution_count": 5,
   "id": "9d0488da",
   "metadata": {},
   "outputs": [
    {
     "data": {
      "image/png": "[encoded data removed]",
      "text/plain": [
       "<Figure size 640x480 with 1 Axes>"
      ]
     },
     "metadata": {},
     "output_type": "display_data"
    }
   ],
   "source": [
    "#Loss Visualization\n",
    "epochs = [i for i in range(1,16)]\n",
    "plt.plot(epochs,load_history['loss'],color='red',label='Training Loss')\n",
    "plt.plot(epochs,load_history['val_loss'],color='blue',label='Validation Loss')\n",
    "plt.xlabel('No. of Epochs')\n",
    "plt.title('Visualization of Loss Result')\n",
    "plt.legend()\n",
    "plt.show()"
   ]
  },
  {
   "cell_type": "markdown",
   "id": "8f28af75",
   "metadata": {},
   "source": [
    "## Model Evaluation"
   ]
  },
  {
   "cell_type": "code",
   "execution_count": 9,
   "id": "238ccba1",
   "metadata": {},
   "outputs": [],
   "source": [
    "model = tf.keras.models.load_model(\"Trained_Skin_Disease_model.keras\")"
   ]
  },
  {
   "cell_type": "code",
   "execution_count": 33,
   "id": "e071c143",
   "metadata": {},
   "outputs": [
    {
     "data": {
      "text/html": [
       "<pre style=\"white-space:pre;overflow-x:auto;line-height:normal;font-family:Menlo,'DejaVu Sans Mono',consolas,'Courier New',monospace\"><span style=\"font-weight: bold\">Model: \"sequential\"</span>\n",
       "</pre>\n"
      ],
      "text/plain": [
       "\u001b[1mModel: \"sequential\"\u001b[0m\n"
      ]
     },
     "metadata": {},
     "output_type": "display_data"
    },
    {
     "data": {
      "text/html": [
       "<pre style=\"white-space:pre;overflow-x:auto;line-height:normal;font-family:Menlo,'DejaVu Sans Mono',consolas,'Courier New',monospace\">┏━━━━━━━━━━━━━━━━━━━━━━━━━━━━━━━━━┳━━━━━━━━━━━━━━━━━━━━━━━━┳━━━━━━━━━━━━━━━┓\n",
       "┃<span style=\"font-weight: bold\"> Layer (type)                    </span>┃<span style=\"font-weight: bold\"> Output Shape           </span>┃<span style=\"font-weight: bold\">       Param # </span>┃\n",
       "┡━━━━━━━━━━━━━━━━━━━━━━━━━━━━━━━━━╇━━━━━━━━━━━━━━━━━━━━━━━━╇━━━━━━━━━━━━━━━┩\n",
       "│ MobileNetV3Large (<span style=\"color: #0087ff; text-decoration-color: #0087ff\">Functional</span>)   │ (<span style=\"color: #00d7ff; text-decoration-color: #00d7ff\">None</span>, <span style=\"color: #00af00; text-decoration-color: #00af00\">1000</span>)           │     <span style=\"color: #00af00; text-decoration-color: #00af00\">5,507,432</span> │\n",
       "├─────────────────────────────────┼────────────────────────┼───────────────┤\n",
       "│ dense (<span style=\"color: #0087ff; text-decoration-color: #0087ff\">Dense</span>)                   │ (<span style=\"color: #00d7ff; text-decoration-color: #00d7ff\">None</span>, <span style=\"color: #00af00; text-decoration-color: #00af00\">6</span>)              │         <span style=\"color: #00af00; text-decoration-color: #00af00\">6,006</span> │\n",
       "└─────────────────────────────────┴────────────────────────┴───────────────┘\n",
       "</pre>\n"
      ],
      "text/plain": [
       "┏━━━━━━━━━━━━━━━━━━━━━━━━━━━━━━━━━┳━━━━━━━━━━━━━━━━━━━━━━━━┳━━━━━━━━━━━━━━━┓\n",
       "┃\u001b[1m \u001b[0m\u001b[1mLayer (type)                   \u001b[0m\u001b[1m \u001b[0m┃\u001b[1m \u001b[0m\u001b[1mOutput Shape          \u001b[0m\u001b[1m \u001b[0m┃\u001b[1m \u001b[0m\u001b[1m      Param #\u001b[0m\u001b[1m \u001b[0m┃\n",
       "┡━━━━━━━━━━━━━━━━━━━━━━━━━━━━━━━━━╇━━━━━━━━━━━━━━━━━━━━━━━━╇━━━━━━━━━━━━━━━┩\n",
       "│ MobileNetV3Large (\u001b[38;5;33mFunctional\u001b[0m)   │ (\u001b[38;5;45mNone\u001b[0m, \u001b[38;5;34m1000\u001b[0m)           │     \u001b[38;5;34m5,507,432\u001b[0m │\n",
       "├─────────────────────────────────┼────────────────────────┼───────────────┤\n",
       "│ dense (\u001b[38;5;33mDense\u001b[0m)                   │ (\u001b[38;5;45mNone\u001b[0m, \u001b[38;5;34m6\u001b[0m)              │         \u001b[38;5;34m6,006\u001b[0m │\n",
       "└─────────────────────────────────┴────────────────────────┴───────────────┘\n"
      ]
     },
     "metadata": {},
     "output_type": "display_data"
    },
    {
     "data": {
      "text/html": [
       "<pre style=\"white-space:pre;overflow-x:auto;line-height:normal;font-family:Menlo,'DejaVu Sans Mono',consolas,'Courier New',monospace\"><span style=\"font-weight: bold\"> Total params: </span><span style=\"color: #00af00; text-decoration-color: #00af00\">11,002,478</span> (41.97 MB)\n",
       "</pre>\n"
      ],
      "text/plain": [
       "\u001b[1m Total params: \u001b[0m\u001b[38;5;34m11,002,478\u001b[0m (41.97 MB)\n"
      ]
     },
     "metadata": {},
     "output_type": "display_data"
    },
    {
     "data": {
      "text/html": [
       "<pre style=\"white-space:pre;overflow-x:auto;line-height:normal;font-family:Menlo,'DejaVu Sans Mono',consolas,'Courier New',monospace\"><span style=\"font-weight: bold\"> Trainable params: </span><span style=\"color: #00af00; text-decoration-color: #00af00\">5,489,038</span> (20.94 MB)\n",
       "</pre>\n"
      ],
      "text/plain": [
       "\u001b[1m Trainable params: \u001b[0m\u001b[38;5;34m5,489,038\u001b[0m (20.94 MB)\n"
      ]
     },
     "metadata": {},
     "output_type": "display_data"
    },
    {
     "data": {
      "text/html": [
       "<pre style=\"white-space:pre;overflow-x:auto;line-height:normal;font-family:Menlo,'DejaVu Sans Mono',consolas,'Courier New',monospace\"><span style=\"font-weight: bold\"> Non-trainable params: </span><span style=\"color: #00af00; text-decoration-color: #00af00\">24,400</span> (95.31 KB)\n",
       "</pre>\n"
      ],
      "text/plain": [
       "\u001b[1m Non-trainable params: \u001b[0m\u001b[38;5;34m24,400\u001b[0m (95.31 KB)\n"
      ]
     },
     "metadata": {},
     "output_type": "display_data"
    },
    {
     "data": {
      "text/html": [
       "<pre style=\"white-space:pre;overflow-x:auto;line-height:normal;font-family:Menlo,'DejaVu Sans Mono',consolas,'Courier New',monospace\"><span style=\"font-weight: bold\"> Optimizer params: </span><span style=\"color: #00af00; text-decoration-color: #00af00\">5,489,040</span> (20.94 MB)\n",
       "</pre>\n"
      ],
      "text/plain": [
       "\u001b[1m Optimizer params: \u001b[0m\u001b[38;5;34m5,489,040\u001b[0m (20.94 MB)\n"
      ]
     },
     "metadata": {},
     "output_type": "display_data"
    }
   ],
   "source": [
    "model.summary()"
   ]
  },
  {
   "cell_type": "code",
   "execution_count": 34,
   "id": "cb7779a6",
   "metadata": {},
   "outputs": [
    {
     "name": "stdout",
     "output_type": "stream",
     "text": [
      "Found 3778 files belonging to 6 classes.\n"
     ]
    }
   ],
   "source": [
    "test_set = validation_set = image_dataset_from_directory(\n",
    "    './dataset/test',\n",
    "    labels=\"inferred\",\n",
    "    label_mode=\"categorical\",\n",
    "    class_names=None,\n",
    "    color_mode=\"rgb\",\n",
    "    batch_size=64,\n",
    "    image_size=(224, 224),\n",
    "    shuffle=False,\n",
    "    seed=None,\n",
    "    validation_split=None,\n",
    "    subset=None,\n",
    "    interpolation=\"bilinear\",\n",
    "    follow_links=False,\n",
    "    crop_to_aspect_ratio=False\n",
    ")"
   ]
  },
  {
   "cell_type": "code",
   "execution_count": 35,
   "id": "102e40d6",
   "metadata": {},
   "outputs": [
    {
     "name": "stdout",
     "output_type": "stream",
     "text": [
      "\u001b[1m60/60\u001b[0m \u001b[32m━━━━━━━━━━━━━━━━━━━━\u001b[0m\u001b[37m\u001b[0m \u001b[1m42s\u001b[0m 683ms/step - accuracy: 0.7285 - f1_score: 0.4333 - loss: 0.9269\n"
     ]
    }
   ],
   "source": [
    "test_loss,test_acc,f1_score = model.evaluate(test_set)"
   ]
  },
  {
   "cell_type": "code",
   "execution_count": 36,
   "id": "47bb0d35",
   "metadata": {},
   "outputs": [
    {
     "data": {
      "text/plain": [
       "0.7449111938476562"
      ]
     },
     "execution_count": 36,
     "metadata": {},
     "output_type": "execute_result"
    }
   ],
   "source": [
    "test_loss"
   ]
  },
  {
   "cell_type": "code",
   "execution_count": 37,
   "id": "a38a32d5",
   "metadata": {},
   "outputs": [
    {
     "data": {
      "text/plain": [
       "0.7686606645584106"
      ]
     },
     "execution_count": 37,
     "metadata": {},
     "output_type": "execute_result"
    }
   ],
   "source": [
    "test_acc"
   ]
  },
  {
   "cell_type": "code",
   "execution_count": 38,
   "id": "10e7f0a2",
   "metadata": {},
   "outputs": [
    {
     "data": {
      "text/plain": [
       "<tf.Tensor: shape=(6,), dtype=float32, numpy=\n",
       "array([0.6399999 , 0.        , 0.9090908 , 0.71186435, 0.91453934,\n",
       "       0.8478389 ], dtype=float32)>"
      ]
     },
     "execution_count": 38,
     "metadata": {},
     "output_type": "execute_result"
    }
   ],
   "source": [
    "f1_score"
   ]
  },
  {
   "cell_type": "code",
   "execution_count": 39,
   "id": "f86c1b8d",
   "metadata": {},
   "outputs": [
    {
     "data": {
      "text/plain": [
       "<tf.Tensor: shape=(3778, 6), dtype=float32, numpy=\n",
       "array([[1., 0., 0., 0., 0., 0.],\n",
       "       [1., 0., 0., 0., 0., 0.],\n",
       "       [1., 0., 0., 0., 0., 0.],\n",
       "       ...,\n",
       "       [0., 0., 0., 0., 0., 1.],\n",
       "       [0., 0., 0., 0., 0., 1.],\n",
       "       [0., 0., 0., 0., 0., 1.]], dtype=float32)>"
      ]
     },
     "execution_count": 39,
     "metadata": {},
     "output_type": "execute_result"
    }
   ],
   "source": [
    "##Computing True labels from test set\n",
    "true_categories = tf.concat([y for x, y in test_set], axis=0)\n",
    "true_categories"
   ]
  },
  {
   "cell_type": "code",
   "execution_count": 40,
   "id": "d57fac61",
   "metadata": {},
   "outputs": [],
   "source": [
    "\n",
    "true_categories = tf.concat([y for x, y in test_set], axis=0)\n",
    "Y_true = tf.argmax(true_categories, axis=1)"
   ]
  },
  {
   "cell_type": "code",
   "execution_count": 41,
   "id": "88e8924c",
   "metadata": {},
   "outputs": [
    {
     "data": {
      "text/plain": [
       "<tf.Tensor: shape=(3778, 6), dtype=float32, numpy=\n",
       "array([[1., 0., 0., 0., 0., 0.],\n",
       "       [1., 0., 0., 0., 0., 0.],\n",
       "       [1., 0., 0., 0., 0., 0.],\n",
       "       ...,\n",
       "       [0., 0., 0., 0., 0., 1.],\n",
       "       [0., 0., 0., 0., 0., 1.],\n",
       "       [0., 0., 0., 0., 0., 1.]], dtype=float32)>"
      ]
     },
     "execution_count": 41,
     "metadata": {},
     "output_type": "execute_result"
    }
   ],
   "source": [
    "true_categories"
   ]
  },
  {
   "cell_type": "code",
   "execution_count": 42,
   "id": "2f1fafbc",
   "metadata": {},
   "outputs": [
    {
     "data": {
      "text/plain": [
       "<tf.Tensor: shape=(3778,), dtype=int64, numpy=array([0, 0, 0, ..., 5, 5, 5], dtype=int64)>"
      ]
     },
     "execution_count": 42,
     "metadata": {},
     "output_type": "execute_result"
    }
   ],
   "source": [
    "Y_true"
   ]
  },
  {
   "cell_type": "code",
   "execution_count": 43,
   "id": "9ed576ec",
   "metadata": {},
   "outputs": [
    {
     "name": "stdout",
     "output_type": "stream",
     "text": [
      "\u001b[1m60/60\u001b[0m \u001b[32m━━━━━━━━━━━━━━━━━━━━\u001b[0m\u001b[37m\u001b[0m \u001b[1m41s\u001b[0m 678ms/step\n"
     ]
    },
    {
     "data": {
      "text/plain": [
       "array([[0.41756272, 0.34521717, 0.03575891, 0.0333234 , 0.09688888,\n",
       "        0.07124898],\n",
       "       [0.41756272, 0.34521717, 0.03575891, 0.0333234 , 0.09688888,\n",
       "        0.07124898],\n",
       "       [0.18877684, 0.15992683, 0.1308163 , 0.161935  , 0.19240175,\n",
       "        0.16614325],\n",
       "       ...,\n",
       "       [0.03682645, 0.03033935, 0.02676798, 0.01949138, 0.8130036 ,\n",
       "        0.07357123],\n",
       "       [0.04084275, 0.03824653, 0.02960609, 0.02135781, 0.12358528,\n",
       "        0.74636155],\n",
       "       [0.41756272, 0.34521717, 0.03575891, 0.0333234 , 0.09688888,\n",
       "        0.07124898]], dtype=float32)"
      ]
     },
     "execution_count": 43,
     "metadata": {},
     "output_type": "execute_result"
    }
   ],
   "source": [
    "##Computing Predicted labels using test set\n",
    "predicted_categories = model.predict(test_set)\n",
    "predicted_categories"
   ]
  },
  {
   "cell_type": "code",
   "execution_count": 44,
   "id": "7c2afaf0",
   "metadata": {},
   "outputs": [
    {
     "data": {
      "text/plain": [
       "<tf.Tensor: shape=(3778,), dtype=int64, numpy=array([0, 0, 4, ..., 4, 5, 0], dtype=int64)>"
      ]
     },
     "execution_count": 44,
     "metadata": {},
     "output_type": "execute_result"
    }
   ],
   "source": [
    "Y_pred = tf.argmax(predicted_categories, axis=1)\n",
    "Y_pred"
   ]
  },
  {
   "cell_type": "markdown",
   "id": "d248df91",
   "metadata": {},
   "source": [
    "### 1. Classification Report"
   ]
  },
  {
   "cell_type": "code",
   "execution_count": 48,
   "id": "b512fe68",
   "metadata": {},
   "outputs": [
    {
     "name": "stdout",
     "output_type": "stream",
     "text": [
      "[ 620  493  322  134 1360  849]\n",
      "[1155    0  338  102 1343  840]\n"
     ]
    }
   ],
   "source": [
    "import numpy as np\n",
    "print(np.bincount(Y_true))\n",
    "print(np.bincount(Y_pred))\n"
   ]
  },
  {
   "cell_type": "code",
   "execution_count": 49,
   "id": "4c2bb686",
   "metadata": {},
   "outputs": [
    {
     "name": "stdout",
     "output_type": "stream",
     "text": [
      "              precision    recall  f1-score   support\n",
      "\n",
      "           0       0.49      0.92      0.64       620\n",
      "           1       1.00      0.00      0.00       493\n",
      "           2       0.89      0.93      0.91       322\n",
      "           3       0.82      0.63      0.71       134\n",
      "           4       0.92      0.91      0.91      1360\n",
      "           5       0.85      0.84      0.85       849\n",
      "\n",
      "    accuracy                           0.77      3778\n",
      "   macro avg       0.83      0.70      0.67      3778\n",
      "weighted avg       0.84      0.77      0.73      3778\n",
      "\n"
     ]
    }
   ],
   "source": [
    "print(classification_report(Y_true, Y_pred, zero_division=1))\n"
   ]
  },
  {
   "cell_type": "code",
   "execution_count": 52,
   "id": "40749b2f",
   "metadata": {},
   "outputs": [
    {
     "data": {
      "image/png": "[encoded data removed]",
      "text/plain": [
       "<Figure size 640x480 with 2 Axes>"
      ]
     },
     "metadata": {},
     "output_type": "display_data"
    }
   ],
   "source": [
    "from sklearn.metrics import confusion_matrix\n",
    "import seaborn as sns\n",
    "import matplotlib.pyplot as plt\n",
    "\n",
    "cm = confusion_matrix(Y_true, Y_pred)\n",
    "sns.heatmap(cm, annot=True, fmt='d', cmap='Blues')\n",
    "plt.xlabel('Predicted')\n",
    "plt.ylabel('True')\n",
    "plt.show()\n"
   ]
  },
  {
   "cell_type": "code",
   "execution_count": 45,
   "id": "410ccf78",
   "metadata": {},
   "outputs": [
    {
     "name": "stdout",
     "output_type": "stream",
     "text": [
      "              precision    recall  f1-score   support\n",
      "\n",
      "           0       0.49      0.92      0.64       620\n",
      "           1       0.00      0.00      0.00       493\n",
      "           2       0.89      0.93      0.91       322\n",
      "           3       0.82      0.63      0.71       134\n",
      "           4       0.92      0.91      0.91      1360\n",
      "           5       0.85      0.84      0.85       849\n",
      "\n",
      "    accuracy                           0.77      3778\n",
      "   macro avg       0.66      0.70      0.67      3778\n",
      "weighted avg       0.71      0.77      0.73      3778\n",
      "\n"
     ]
    },
    {
     "name": "stderr",
     "output_type": "stream",
     "text": [
      "c:\\Users\\ilakshana\\.conda\\envs\\tensorflow-env\\lib\\site-packages\\sklearn\\metrics\\_classification.py:1469: UndefinedMetricWarning: Precision and F-score are ill-defined and being set to 0.0 in labels with no predicted samples. Use `zero_division` parameter to control this behavior.\n",
      "  _warn_prf(average, modifier, msg_start, len(result))\n",
      "c:\\Users\\ilakshana\\.conda\\envs\\tensorflow-env\\lib\\site-packages\\sklearn\\metrics\\_classification.py:1469: UndefinedMetricWarning: Precision and F-score are ill-defined and being set to 0.0 in labels with no predicted samples. Use `zero_division` parameter to control this behavior.\n",
      "  _warn_prf(average, modifier, msg_start, len(result))\n",
      "c:\\Users\\ilakshana\\.conda\\envs\\tensorflow-env\\lib\\site-packages\\sklearn\\metrics\\_classification.py:1469: UndefinedMetricWarning: Precision and F-score are ill-defined and being set to 0.0 in labels with no predicted samples. Use `zero_division` parameter to control this behavior.\n",
      "  _warn_prf(average, modifier, msg_start, len(result))\n"
     ]
    }
   ],
   "source": [
    "from sklearn.metrics import classification_report\n",
    "print(classification_report(Y_true,Y_pred))"
   ]
  },
  {
   "cell_type": "markdown",
   "id": "8c49f6b0",
   "metadata": {},
   "source": [
    "### 2. Confusion Matrix"
   ]
  },
  {
   "cell_type": "code",
   "execution_count": 46,
   "id": "221b7272",
   "metadata": {},
   "outputs": [
    {
     "data": {
      "text/plain": [
       "array([[ 568,    0,   10,    7,   20,   15],\n",
       "       [ 460,    0,   11,    4,    5,   13],\n",
       "       [  10,    0,  300,    2,    6,    4],\n",
       "       [  32,    0,    7,   84,    2,    9],\n",
       "       [  35,    0,    4,    2, 1236,   83],\n",
       "       [  50,    0,    6,    3,   74,  716]], dtype=int64)"
      ]
     },
     "execution_count": 46,
     "metadata": {},
     "output_type": "execute_result"
    }
   ],
   "source": [
    "from sklearn.metrics import confusion_matrix\n",
    "cm = confusion_matrix(Y_true,Y_pred)\n",
    "cm"
   ]
  },
  {
   "cell_type": "code",
   "execution_count": 47,
   "id": "defe2f1b",
   "metadata": {},
   "outputs": [
    {
     "data": {
      "image/png": "[encoded data removed]",
      "text/plain": [
       "<Figure size 1000x1000 with 2 Axes>"
      ]
     },
     "metadata": {},
     "output_type": "display_data"
    }
   ],
   "source": [
    "import seaborn as sns\n",
    "plt.figure(figsize=(10,10))\n",
    "sns.heatmap(cm,annot=True,annot_kws={\"size\":8})\n",
    "plt.xlabel(\"Predicted Class\",fontsize=10)\n",
    "plt.ylabel(\"Actual Class\",fontsize=10)\n",
    "plt.title(\"Skin Disease Prediction Confusion Matrix\",fontsize=12)\n",
    "plt.show()"
   ]
  }
 ],
 "metadata": {
  "kernelspec": {
   "display_name": "tensorflow-env",
   "language": "python",
   "name": "python3"
  },
  "language_info": {
   "codemirror_mode": {
    "name": "ipython",
    "version": 3
   },
   "file_extension": ".py",
   "mimetype": "text/x-python",
   "name": "python",
   "nbconvert_exporter": "python",
   "pygments_lexer": "ipython3",
   "version": "3.10.16"
  }
 },
 "nbformat": 4,
 "nbformat_minor": 5
}
